{
  "nbformat": 4,
  "nbformat_minor": 0,
  "metadata": {
    "colab": {
      "provenance": []
    },
    "kernelspec": {
      "name": "python3",
      "display_name": "Python 3"
    },
    "language_info": {
      "name": "python"
    }
  },
  "cells": [
    {
      "cell_type": "code",
      "execution_count": 1,
      "metadata": {
        "colab": {
          "base_uri": "https://localhost:8080/"
        },
        "id": "-2hINtYsDpTI",
        "outputId": "9f6af8c4-99f4-43e5-b5e8-d77e773b2233"
      },
      "outputs": [
        {
          "output_type": "stream",
          "name": "stdout",
          "text": [
            "Collecting PyPDF2\n",
            "  Downloading pypdf2-3.0.1-py3-none-any.whl.metadata (6.8 kB)\n",
            "Downloading pypdf2-3.0.1-py3-none-any.whl (232 kB)\n",
            "\u001b[?25l   \u001b[90m━━━━━━━━━━━━━━━━━━━━━━━━━━━━━━━━━━━━━━━━\u001b[0m \u001b[32m0.0/232.6 kB\u001b[0m \u001b[31m?\u001b[0m eta \u001b[36m-:--:--\u001b[0m\r\u001b[2K   \u001b[91m━━━━━━━━━━━━\u001b[0m\u001b[90m╺\u001b[0m\u001b[90m━━━━━━━━━━━━━━━━━━━━━━━━━━━\u001b[0m \u001b[32m71.7/232.6 kB\u001b[0m \u001b[31m2.6 MB/s\u001b[0m eta \u001b[36m0:00:01\u001b[0m\r\u001b[2K   \u001b[90m━━━━━━━━━━━━━━━━━━━━━━━━━━━━━━━━━━━━━━━━\u001b[0m \u001b[32m232.6/232.6 kB\u001b[0m \u001b[31m3.5 MB/s\u001b[0m eta \u001b[36m0:00:00\u001b[0m\n",
            "\u001b[?25hInstalling collected packages: PyPDF2\n",
            "Successfully installed PyPDF2-3.0.1\n"
          ]
        }
      ],
      "source": [
        "pip install PyPDF2"
      ]
    },
    {
      "cell_type": "code",
      "source": [
        "pip install pdfminer.six"
      ],
      "metadata": {
        "colab": {
          "base_uri": "https://localhost:8080/"
        },
        "id": "zvYAao5VFF3V",
        "outputId": "d5f69a1a-ce55-4b21-9147-11e7daadecfb"
      },
      "execution_count": 2,
      "outputs": [
        {
          "output_type": "stream",
          "name": "stdout",
          "text": [
            "Collecting pdfminer.six\n",
            "  Downloading pdfminer.six-20240706-py3-none-any.whl.metadata (4.1 kB)\n",
            "Requirement already satisfied: charset-normalizer>=2.0.0 in /usr/local/lib/python3.10/dist-packages (from pdfminer.six) (3.4.1)\n",
            "Requirement already satisfied: cryptography>=36.0.0 in /usr/local/lib/python3.10/dist-packages (from pdfminer.six) (43.0.3)\n",
            "Requirement already satisfied: cffi>=1.12 in /usr/local/lib/python3.10/dist-packages (from cryptography>=36.0.0->pdfminer.six) (1.17.1)\n",
            "Requirement already satisfied: pycparser in /usr/local/lib/python3.10/dist-packages (from cffi>=1.12->cryptography>=36.0.0->pdfminer.six) (2.22)\n",
            "Downloading pdfminer.six-20240706-py3-none-any.whl (5.6 MB)\n",
            "\u001b[2K   \u001b[90m━━━━━━━━━━━━━━━━━━━━━━━━━━━━━━━━━━━━━━━━\u001b[0m \u001b[32m5.6/5.6 MB\u001b[0m \u001b[31m40.0 MB/s\u001b[0m eta \u001b[36m0:00:00\u001b[0m\n",
            "\u001b[?25hInstalling collected packages: pdfminer.six\n",
            "Successfully installed pdfminer.six-20240706\n"
          ]
        }
      ]
    },
    {
      "cell_type": "code",
      "source": [
        "pip install pdfplumber"
      ],
      "metadata": {
        "colab": {
          "base_uri": "https://localhost:8080/"
        },
        "id": "qpksltYJFIeH",
        "outputId": "5180f6fe-1d02-44ef-a372-c1d35c77283b"
      },
      "execution_count": 3,
      "outputs": [
        {
          "output_type": "stream",
          "name": "stdout",
          "text": [
            "Collecting pdfplumber\n",
            "  Downloading pdfplumber-0.11.5-py3-none-any.whl.metadata (42 kB)\n",
            "\u001b[?25l     \u001b[90m━━━━━━━━━━━━━━━━━━━━━━━━━━━━━━━━━━━━━━━━\u001b[0m \u001b[32m0.0/42.5 kB\u001b[0m \u001b[31m?\u001b[0m eta \u001b[36m-:--:--\u001b[0m\r\u001b[2K     \u001b[90m━━━━━━━━━━━━━━━━━━━━━━━━━━━━━━━━━━━━━━━━\u001b[0m \u001b[32m42.5/42.5 kB\u001b[0m \u001b[31m1.8 MB/s\u001b[0m eta \u001b[36m0:00:00\u001b[0m\n",
            "\u001b[?25hCollecting pdfminer.six==20231228 (from pdfplumber)\n",
            "  Downloading pdfminer.six-20231228-py3-none-any.whl.metadata (4.2 kB)\n",
            "Requirement already satisfied: Pillow>=9.1 in /usr/local/lib/python3.10/dist-packages (from pdfplumber) (11.1.0)\n",
            "Collecting pypdfium2>=4.18.0 (from pdfplumber)\n",
            "  Downloading pypdfium2-4.30.1-py3-none-manylinux_2_17_x86_64.manylinux2014_x86_64.whl.metadata (48 kB)\n",
            "\u001b[2K     \u001b[90m━━━━━━━━━━━━━━━━━━━━━━━━━━━━━━━━━━━━━━━━\u001b[0m \u001b[32m48.2/48.2 kB\u001b[0m \u001b[31m3.4 MB/s\u001b[0m eta \u001b[36m0:00:00\u001b[0m\n",
            "\u001b[?25hRequirement already satisfied: charset-normalizer>=2.0.0 in /usr/local/lib/python3.10/dist-packages (from pdfminer.six==20231228->pdfplumber) (3.4.1)\n",
            "Requirement already satisfied: cryptography>=36.0.0 in /usr/local/lib/python3.10/dist-packages (from pdfminer.six==20231228->pdfplumber) (43.0.3)\n",
            "Requirement already satisfied: cffi>=1.12 in /usr/local/lib/python3.10/dist-packages (from cryptography>=36.0.0->pdfminer.six==20231228->pdfplumber) (1.17.1)\n",
            "Requirement already satisfied: pycparser in /usr/local/lib/python3.10/dist-packages (from cffi>=1.12->cryptography>=36.0.0->pdfminer.six==20231228->pdfplumber) (2.22)\n",
            "Downloading pdfplumber-0.11.5-py3-none-any.whl (59 kB)\n",
            "\u001b[2K   \u001b[90m━━━━━━━━━━━━━━━━━━━━━━━━━━━━━━━━━━━━━━━━\u001b[0m \u001b[32m59.5/59.5 kB\u001b[0m \u001b[31m5.5 MB/s\u001b[0m eta \u001b[36m0:00:00\u001b[0m\n",
            "\u001b[?25hDownloading pdfminer.six-20231228-py3-none-any.whl (5.6 MB)\n",
            "\u001b[2K   \u001b[90m━━━━━━━━━━━━━━━━━━━━━━━━━━━━━━━━━━━━━━━━\u001b[0m \u001b[32m5.6/5.6 MB\u001b[0m \u001b[31m55.4 MB/s\u001b[0m eta \u001b[36m0:00:00\u001b[0m\n",
            "\u001b[?25hDownloading pypdfium2-4.30.1-py3-none-manylinux_2_17_x86_64.manylinux2014_x86_64.whl (2.9 MB)\n",
            "\u001b[2K   \u001b[90m━━━━━━━━━━━━━━━━━━━━━━━━━━━━━━━━━━━━━━━━\u001b[0m \u001b[32m2.9/2.9 MB\u001b[0m \u001b[31m76.1 MB/s\u001b[0m eta \u001b[36m0:00:00\u001b[0m\n",
            "\u001b[?25hInstalling collected packages: pypdfium2, pdfminer.six, pdfplumber\n",
            "  Attempting uninstall: pdfminer.six\n",
            "    Found existing installation: pdfminer.six 20240706\n",
            "    Uninstalling pdfminer.six-20240706:\n",
            "      Successfully uninstalled pdfminer.six-20240706\n",
            "Successfully installed pdfminer.six-20231228 pdfplumber-0.11.5 pypdfium2-4.30.1\n"
          ]
        }
      ]
    },
    {
      "cell_type": "code",
      "source": [
        "!sudo apt-get install poppler-utils"
      ],
      "metadata": {
        "colab": {
          "base_uri": "https://localhost:8080/"
        },
        "id": "ISbb8ZxGHVTp",
        "outputId": "12b1d473-ac79-4910-93e5-1e7b5c9665c7"
      },
      "execution_count": 4,
      "outputs": [
        {
          "output_type": "stream",
          "name": "stdout",
          "text": [
            "Reading package lists... Done\n",
            "Building dependency tree... Done\n",
            "Reading state information... Done\n",
            "The following NEW packages will be installed:\n",
            "  poppler-utils\n",
            "0 upgraded, 1 newly installed, 0 to remove and 49 not upgraded.\n",
            "Need to get 186 kB of archives.\n",
            "After this operation, 696 kB of additional disk space will be used.\n",
            "Get:1 http://archive.ubuntu.com/ubuntu jammy-updates/main amd64 poppler-utils amd64 22.02.0-2ubuntu0.5 [186 kB]\n",
            "Fetched 186 kB in 0s (1,145 kB/s)\n",
            "debconf: unable to initialize frontend: Dialog\n",
            "debconf: (No usable dialog-like program is installed, so the dialog based frontend cannot be used. at /usr/share/perl5/Debconf/FrontEnd/Dialog.pm line 78, <> line 1.)\n",
            "debconf: falling back to frontend: Readline\n",
            "debconf: unable to initialize frontend: Readline\n",
            "debconf: (This frontend requires a controlling tty.)\n",
            "debconf: falling back to frontend: Teletype\n",
            "dpkg-preconfigure: unable to re-open stdin: \n",
            "Selecting previously unselected package poppler-utils.\n",
            "(Reading database ... 123632 files and directories currently installed.)\n",
            "Preparing to unpack .../poppler-utils_22.02.0-2ubuntu0.5_amd64.deb ...\n",
            "Unpacking poppler-utils (22.02.0-2ubuntu0.5) ...\n",
            "Setting up poppler-utils (22.02.0-2ubuntu0.5) ...\n",
            "Processing triggers for man-db (2.10.2-1) ...\n"
          ]
        }
      ]
    },
    {
      "cell_type": "code",
      "source": [
        "pip install pdf2image"
      ],
      "metadata": {
        "colab": {
          "base_uri": "https://localhost:8080/"
        },
        "id": "XLHeZh-6FMeg",
        "outputId": "c67a077c-9025-49ca-fd0f-0ad4683b0709"
      },
      "execution_count": 5,
      "outputs": [
        {
          "output_type": "stream",
          "name": "stdout",
          "text": [
            "Collecting pdf2image\n",
            "  Downloading pdf2image-1.17.0-py3-none-any.whl.metadata (6.2 kB)\n",
            "Requirement already satisfied: pillow in /usr/local/lib/python3.10/dist-packages (from pdf2image) (11.1.0)\n",
            "Downloading pdf2image-1.17.0-py3-none-any.whl (11 kB)\n",
            "Installing collected packages: pdf2image\n",
            "Successfully installed pdf2image-1.17.0\n"
          ]
        }
      ]
    },
    {
      "cell_type": "code",
      "source": [
        "pip install Pillow"
      ],
      "metadata": {
        "colab": {
          "base_uri": "https://localhost:8080/"
        },
        "id": "bkYTQ-mlFQPu",
        "outputId": "8fc5562c-15e8-41c3-a389-0e8d2f998831"
      },
      "execution_count": 6,
      "outputs": [
        {
          "output_type": "stream",
          "name": "stdout",
          "text": [
            "Requirement already satisfied: Pillow in /usr/local/lib/python3.10/dist-packages (11.1.0)\n"
          ]
        }
      ]
    },
    {
      "cell_type": "code",
      "source": [
        "!sudo apt install tesseract-ocr\n",
        "!pip install pytesseract"
      ],
      "metadata": {
        "colab": {
          "base_uri": "https://localhost:8080/"
        },
        "id": "9VW3PLw6FQRa",
        "outputId": "2cc4acfe-f4ab-4bc4-bb0d-cfdc8ad8cda1"
      },
      "execution_count": 7,
      "outputs": [
        {
          "output_type": "stream",
          "name": "stdout",
          "text": [
            "Reading package lists... Done\n",
            "Building dependency tree... Done\n",
            "Reading state information... Done\n",
            "The following additional packages will be installed:\n",
            "  tesseract-ocr-eng tesseract-ocr-osd\n",
            "The following NEW packages will be installed:\n",
            "  tesseract-ocr tesseract-ocr-eng tesseract-ocr-osd\n",
            "0 upgraded, 3 newly installed, 0 to remove and 49 not upgraded.\n",
            "Need to get 4,816 kB of archives.\n",
            "After this operation, 15.6 MB of additional disk space will be used.\n",
            "Get:1 http://archive.ubuntu.com/ubuntu jammy/universe amd64 tesseract-ocr-eng all 1:4.00~git30-7274cfa-1.1 [1,591 kB]\n",
            "Get:2 http://archive.ubuntu.com/ubuntu jammy/universe amd64 tesseract-ocr-osd all 1:4.00~git30-7274cfa-1.1 [2,990 kB]\n",
            "Get:3 http://archive.ubuntu.com/ubuntu jammy/universe amd64 tesseract-ocr amd64 4.1.1-2.1build1 [236 kB]\n",
            "Fetched 4,816 kB in 0s (15.5 MB/s)\n",
            "debconf: unable to initialize frontend: Dialog\n",
            "debconf: (No usable dialog-like program is installed, so the dialog based frontend cannot be used. at /usr/share/perl5/Debconf/FrontEnd/Dialog.pm line 78, <> line 3.)\n",
            "debconf: falling back to frontend: Readline\n",
            "debconf: unable to initialize frontend: Readline\n",
            "debconf: (This frontend requires a controlling tty.)\n",
            "debconf: falling back to frontend: Teletype\n",
            "dpkg-preconfigure: unable to re-open stdin: \n",
            "Selecting previously unselected package tesseract-ocr-eng.\n",
            "(Reading database ... 123662 files and directories currently installed.)\n",
            "Preparing to unpack .../tesseract-ocr-eng_1%3a4.00~git30-7274cfa-1.1_all.deb ...\n",
            "Unpacking tesseract-ocr-eng (1:4.00~git30-7274cfa-1.1) ...\n",
            "Selecting previously unselected package tesseract-ocr-osd.\n",
            "Preparing to unpack .../tesseract-ocr-osd_1%3a4.00~git30-7274cfa-1.1_all.deb ...\n",
            "Unpacking tesseract-ocr-osd (1:4.00~git30-7274cfa-1.1) ...\n",
            "Selecting previously unselected package tesseract-ocr.\n",
            "Preparing to unpack .../tesseract-ocr_4.1.1-2.1build1_amd64.deb ...\n",
            "Unpacking tesseract-ocr (4.1.1-2.1build1) ...\n",
            "Setting up tesseract-ocr-eng (1:4.00~git30-7274cfa-1.1) ...\n",
            "Setting up tesseract-ocr-osd (1:4.00~git30-7274cfa-1.1) ...\n",
            "Setting up tesseract-ocr (4.1.1-2.1build1) ...\n",
            "Processing triggers for man-db (2.10.2-1) ...\n",
            "Collecting pytesseract\n",
            "  Downloading pytesseract-0.3.13-py3-none-any.whl.metadata (11 kB)\n",
            "Requirement already satisfied: packaging>=21.3 in /usr/local/lib/python3.10/dist-packages (from pytesseract) (24.2)\n",
            "Requirement already satisfied: Pillow>=8.0.0 in /usr/local/lib/python3.10/dist-packages (from pytesseract) (11.1.0)\n",
            "Downloading pytesseract-0.3.13-py3-none-any.whl (14 kB)\n",
            "Installing collected packages: pytesseract\n",
            "Successfully installed pytesseract-0.3.13\n"
          ]
        }
      ]
    },
    {
      "cell_type": "code",
      "source": [
        "# To read the PDF\n",
        "import PyPDF2\n",
        "# To analyze the PDF layout and extract text\n",
        "from pdfminer.high_level import extract_pages, extract_text\n",
        "from pdfminer.layout import LTTextContainer, LTChar, LTRect, LTFigure\n",
        "# To extract text from tables in PDF\n",
        "import pdfplumber\n",
        "# To extract the images from the PDFs\n",
        "from PIL import Image\n",
        "from pdf2image import convert_from_path\n",
        "# To perform OCR to extract text from images\n",
        "import pytesseract\n",
        "# To remove the additional created files\n",
        "import os"
      ],
      "metadata": {
        "id": "IsGwQYA8FQVs"
      },
      "execution_count": 8,
      "outputs": []
    },
    {
      "cell_type": "code",
      "source": [
        "# Create a function to extract text\n",
        "\n",
        "def text_extraction(element):\n",
        "    # Extracting the text from the in-line text element\n",
        "    line_text = element.get_text()\n",
        "\n",
        "    # Find the formats of the text\n",
        "    # Initialize the list with all the formats that appeared in the line of text\n",
        "    line_formats = []\n",
        "    for text_line in element:\n",
        "        if isinstance(text_line, LTTextContainer):\n",
        "            # Iterating through each character in the line of text\n",
        "            for character in text_line:\n",
        "                if isinstance(character, LTChar):\n",
        "                    # Append the font name of the character\n",
        "                    line_formats.append(character.fontname)\n",
        "                    # Append the font size of the character\n",
        "                    line_formats.append(character.size)\n",
        "    # Find the unique font sizes and names in the line\n",
        "    format_per_line = list(set(line_formats))\n",
        "\n",
        "    # Return a tuple with the text in each line along with its format\n",
        "    return (line_text, format_per_line)"
      ],
      "metadata": {
        "id": "uogI2HcjGtNG"
      },
      "execution_count": 9,
      "outputs": []
    },
    {
      "cell_type": "code",
      "source": [
        "# Create a function to crop the image elements from PDFs\n",
        "def crop_image(element, pageObj):\n",
        "    # Get the coordinates to crop the image from the PDF\n",
        "    [image_left, image_top, image_right, image_bottom] = [element.x0,element.y0,element.x1,element.y1]\n",
        "    # Crop the page using coordinates (left, bottom, right, top)\n",
        "    pageObj.mediabox.lower_left = (image_left, image_bottom)\n",
        "    pageObj.mediabox.upper_right = (image_right, image_top)\n",
        "    # Save the cropped page to a new PDF\n",
        "    cropped_pdf_writer = PyPDF2.PdfWriter()\n",
        "    cropped_pdf_writer.add_page(pageObj)\n",
        "    # Save the cropped PDF to a new file\n",
        "    with open('/content/cropped_image.pdf', 'wb') as cropped_pdf_file:\n",
        "        cropped_pdf_writer.write(cropped_pdf_file)\n",
        "\n",
        "# Create a function to convert the PDF to images\n",
        "def convert_to_images(input_file,):\n",
        "    images = convert_from_path(input_file)\n",
        "    image = images[0]\n",
        "    output_file = \"/content/PDF_image.png\"\n",
        "    image.save(output_file, \"PNG\")\n",
        "\n",
        "# Create a function to read text from images\n",
        "def image_to_text(image_path):\n",
        "    # Read the image\n",
        "    img = Image.open(image_path)\n",
        "    # Extract the text from the image\n",
        "    text = pytesseract.image_to_string(img)\n",
        "    return text"
      ],
      "metadata": {
        "id": "uvJBzCb3GtOt"
      },
      "execution_count": 10,
      "outputs": []
    },
    {
      "cell_type": "code",
      "source": [
        "# Extracting tables from the page\n",
        "\n",
        "def extract_table(pdf_path, page_num, table_num):\n",
        "    # Open the pdf file\n",
        "    pdf = pdfplumber.open(pdf_path)\n",
        "    # Find the examined page\n",
        "    table_page = pdf.pages[page_num]\n",
        "    # Extract the appropriate table\n",
        "    table = table_page.extract_tables()[table_num]\n",
        "    return table\n",
        "\n",
        "# Convert table into the appropriate format\n",
        "def table_converter(table):\n",
        "    table_string = ''\n",
        "    # Iterate through each row of the table\n",
        "    for row_num in range(len(table)):\n",
        "        row = table[row_num]\n",
        "        # Remove the line breaker from the wrapped texts\n",
        "        cleaned_row = [item.replace('\\n', ' ') if item is not None and '\\n' in item else 'None' if item is None else item for item in row]\n",
        "        # Convert the table into a string\n",
        "        table_string+=('|'+'|'.join(cleaned_row)+'|'+'\\n')\n",
        "    # Removing the last line break\n",
        "    table_string = table_string[:-1]\n",
        "    return table_string"
      ],
      "metadata": {
        "id": "fAYbu8NNGtTK"
      },
      "execution_count": 11,
      "outputs": []
    },
    {
      "cell_type": "code",
      "source": [
        "# Find the PDF path\n",
        "pdf_path = '/content/Quantum Computing_ Principles and Applications-2.pdf'\n",
        "\n",
        "# create a PDF file object\n",
        "pdfFileObj = open(pdf_path, 'rb')\n",
        "# create a PDF reader object\n",
        "pdfReaded = PyPDF2.PdfReader(pdfFileObj)\n",
        "\n",
        "# Create the dictionary to extract text from each image\n",
        "text_per_page = {}\n",
        "# We extract the pages from the PDF\n",
        "for pagenum, page in enumerate(extract_pages(pdf_path)):\n",
        "\n",
        "    # Initialize the variables needed for the text extraction from the page\n",
        "    pageObj = pdfReaded.pages[pagenum]\n",
        "    page_text = []\n",
        "    line_format = []\n",
        "    text_from_images = []\n",
        "    text_from_tables = []\n",
        "    page_content = []\n",
        "    # Initialize the number of the examined tables\n",
        "    table_num = 0\n",
        "    first_element= True\n",
        "    table_extraction_flag= False\n",
        "    # Open the pdf file\n",
        "    pdf = pdfplumber.open(pdf_path)\n",
        "    # Find the examined page\n",
        "    page_tables = pdf.pages[pagenum]\n",
        "    # Find the number of tables on the page\n",
        "    tables = page_tables.find_tables()\n",
        "\n",
        "\n",
        "    # Find all the elements\n",
        "    page_elements = [(element.y1, element) for element in page._objs]\n",
        "    # Sort all the elements as they appear in the page\n",
        "    page_elements.sort(key=lambda a: a[0], reverse=True)\n",
        "\n",
        "    # Find the elements that composed a page\n",
        "    for i,component in enumerate(page_elements):\n",
        "        # Extract the position of the top side of the element in the PDF\n",
        "        pos= component[0]\n",
        "        # Extract the element of the page layout\n",
        "        element = component[1]\n",
        "\n",
        "        # Check if the element is a text element\n",
        "        if isinstance(element, LTTextContainer):\n",
        "            # Check if the text appeared in a table\n",
        "            if table_extraction_flag == False:\n",
        "                # Use the function to extract the text and format for each text element\n",
        "                (line_text, format_per_line) = text_extraction(element)\n",
        "                # Append the text of each line to the page text\n",
        "                page_text.append(line_text)\n",
        "                # Append the format for each line containing text\n",
        "                line_format.append(format_per_line)\n",
        "                page_content.append(line_text)\n",
        "            else:\n",
        "                # Omit the text that appeared in a table\n",
        "                pass\n",
        "\n",
        "        # Check the elements for images\n",
        "        if isinstance(element, LTFigure):\n",
        "            # Crop the image from the PDF\n",
        "            crop_image(element, pageObj)\n",
        "            # Convert the cropped pdf to an image\n",
        "            convert_to_images('/content/cropped_image.pdf')\n",
        "            # Extract the text from the image\n",
        "            image_text = image_to_text('/content/PDF_image.png')\n",
        "            text_from_images.append(image_text)\n",
        "            page_content.append(image_text)\n",
        "            # Add a placeholder in the text and format lists\n",
        "            page_text.append('image')\n",
        "            line_format.append('image')\n",
        "\n",
        "        # Check the elements for tables\n",
        "        if isinstance(element, LTRect):\n",
        "            # If the first rectangular element\n",
        "            if first_element == True and (table_num+1) <= len(tables):\n",
        "                # Find the bounding box of the table\n",
        "                lower_side = page.bbox[3] - tables[table_num].bbox[3]\n",
        "                upper_side = element.y1\n",
        "                # Extract the information from the table\n",
        "                table = extract_table(pdf_path, pagenum, table_num)\n",
        "                # Convert the table information in structured string format\n",
        "                table_string = table_converter(table)\n",
        "                # Append the table string into a list\n",
        "                text_from_tables.append(table_string)\n",
        "                page_content.append(table_string)\n",
        "                # Set the flag as True to avoid the content again\n",
        "                table_extraction_flag = True\n",
        "                # Make it another element\n",
        "                first_element = False\n",
        "                # Add a placeholder in the text and format lists\n",
        "                page_text.append('table')\n",
        "                line_format.append('table')\n",
        "\n",
        "            # Check if we already extracted the tables from the page\n",
        "            if element.y0 >= lower_side and element.y1 <= upper_side:\n",
        "                pass\n",
        "            elif not isinstance(page_elements[i+1][1], LTRect):\n",
        "                table_extraction_flag = False\n",
        "                first_element = True\n",
        "                table_num+=1\n",
        "\n",
        "\n",
        "    # Create the key of the dictionary\n",
        "    dctkey = 'Page_'+str(pagenum)\n",
        "    # Add the list of list as the value of the page key\n",
        "    text_per_page[dctkey]= [page_text, line_format, text_from_images,text_from_tables, page_content]\n",
        "\n",
        "# Closing the pdf file object\n",
        "pdfFileObj.close()\n",
        "\n",
        "# Deleting the additional files created\n",
        "\n",
        "\n",
        "# print(pagenum)\n",
        "# Display the content of the page\n",
        "for i in range(pagenum):\n",
        "  result = ''.join(text_per_page[f'Page_{i}'][3])\n",
        "  print(result)"
      ],
      "metadata": {
        "colab": {
          "base_uri": "https://localhost:8080/"
        },
        "id": "s1bBHaThFQXR",
        "outputId": "aae75739-30a5-4221-9a6c-381e4961440f"
      },
      "execution_count": 16,
      "outputs": [
        {
          "output_type": "stream",
          "name": "stdout",
          "text": [
            "\n",
            "\n",
            "\n",
            "\n",
            "\n",
            "\n",
            "\n",
            "|𝜓 𝑖𝑛1|𝜓 𝑖𝑛2|𝜓 𝑜𝑢𝑡1|𝜓 𝑜𝑢𝑡2|\n",
            "|0|0|0|0|\n",
            "|0|1|0|1|\n",
            "|1|0|1|1|\n",
            "|1|1|1|0|\n",
            "|𝐼𝑁 1|𝐼𝑁 2|𝑂𝑢𝑡|\n",
            "|0|0|1|\n",
            "|0|1|1|\n",
            "|1|0|1|\n",
            "|1|1|0||𝜓 𝑖𝑛1|𝜓 𝑖𝑛2|𝜓 𝑖𝑛3|𝜓 𝑜𝑢𝑡1|𝜓 𝑜𝑢𝑡2|𝜓 𝑜𝑢𝑡3|\n",
            "|0|0|1|0|0|1|\n",
            "|0|1|1|0|1|1|\n",
            "|1|0|1|1|0|1|\n",
            "|1|1|1|1|1|0|\n",
            "|𝜓 𝑖𝑛1|None|None|𝜓 𝑖𝑛2|None|None|𝜓 𝑖𝑛3|None|None|𝜓 𝑜𝑢𝑡1|None|None|𝜓 𝑜𝑢𝑡2|None|None|𝜓 𝑜𝑢𝑡3|None|None|\n",
            "|0|None|None|0|None|None|0|None|None|0|None|None|0|None|None|0|None|None|\n",
            "||0|||0|||1|||0|||0|||1||\n",
            "|0|None|None|1|None|None|0|None|None|0|None|None|1|None|None|0|None|None|\n",
            "||0|||1|||1|||0|||1|||1||\n",
            "|1|None|None|0|None|None|0|None|None|1|None|None|0|None|None|0|None|None|\n",
            "||1|||0|||1|||1|||0|||1||\n",
            "|1|None|None|1|None|None|0|None|None|1|None|None|1|None|None|1|None|None|\n",
            "||1|||1|||1|||1|||1|||0||\n",
            "\n",
            "\n",
            "\n",
            "\n",
            "\n",
            "\n",
            "\n",
            "\n",
            "\n",
            "\n",
            "||Alice|None|None|Bob|None|None|\n",
            "|Chosen Base|Random Bit r i|Rotation Angle|Photon State|Chosen Base|Photon State after PBS|Measured Result|\n",
            "|Horizontal -Vertical (H-V)|0|0°|↔|H-V|↔|0|\n",
            "|None|None|None|None|D|⤢ or ⤡|?|\n",
            "|None|1|90°|↕|H-V|↕|1|\n",
            "|None|None|None|None|D|⤢ or ⤡|?|\n",
            "|Diagonal (D)|0|45°|⤢|H-V|↔ or ↕|?|\n",
            "|None|None|None|None|D|⤢|0|\n",
            "|None|1|135°|⤡|H-V|↔ or ↕|?|\n",
            "|None|None|None|None|D|⤡|1|\n",
            "\n",
            "\n",
            "\n",
            "\n",
            "\n",
            "\n",
            "\n",
            "\n"
          ]
        }
      ]
    },
    {
      "cell_type": "code",
      "source": [
        "from pdfminer.pdfpage import PDFPage\n",
        "from pdfminer.pdftypes import PDFObjRef, resolve1\n",
        "from pdfminer.psparser import PSLiteral\n",
        "\n",
        "pdf_file = '/content/Quantum Computing_ Principles and Applications-2.pdf'\n",
        "\n",
        "def resolve_dest(doc, dest):\n",
        "    if isinstance(dest, str):\n",
        "        dest = resolve1(doc.get_dest(dest))\n",
        "    elif isinstance(dest, PSLiteral):\n",
        "        dest = resolve1(doc.get_dest(dest.name))\n",
        "    if isinstance(dest, dict):\n",
        "        dest = dest['D']\n",
        "    if isinstance(dest, PDFObjRef):\n",
        "        dest = dest.resolve()\n",
        "    return dest\n",
        "\n",
        "with pdfplumber.open(pdf_file) as pdf:\n",
        "    pdf_doc = pdf.doc\n",
        "    outlines = pdf_doc.get_outlines()\n",
        "\n",
        "    pages = {page.pageid: pageno for (pageno, page)\n",
        "             in enumerate(PDFPage.create_pages(pdf_doc), 1)}\n",
        "\n",
        "    for (level, title, dest, a, se) in outlines:\n",
        "        pageno = None\n",
        "        if dest:\n",
        "            dest = resolve_dest(pdf_doc, dest)\n",
        "            pageno = pages[dest[0].objid]\n",
        "        elif a:\n",
        "            action = a\n",
        "            if isinstance(action, dict):\n",
        "                subtype = action.get('S')\n",
        "                if subtype and repr(subtype) == '/\\'GoTo\\'' and action.get(\n",
        "                        'D'):\n",
        "                    dest = resolve_dest(action['D'])\n",
        "                    pageno = pages[dest[0].objid]\n",
        "        print(f'level={level}, title={title}')"
      ],
      "metadata": {
        "id": "F0_5gDeCFQc5",
        "colab": {
          "base_uri": "https://localhost:8080/"
        },
        "outputId": "48ef3308-141e-49c6-ef52-749696b9b3e5"
      },
      "execution_count": 21,
      "outputs": [
        {
          "output_type": "stream",
          "name": "stdout",
          "text": [
            "level=1, title=Quantum Computing: Principles and Applications\n",
            "level=2, title=Recommended Citation\n",
            "level=1, title=Keywords: Quantum computer, Quantum gate, QKD, Shor, Grover\n"
          ]
        }
      ]
    },
    {
      "cell_type": "code",
      "source": [
        "import pdfplumber\n",
        "\n",
        "def extract_text_with_layout(pdf_path):\n",
        "    with pdfplumber.open(pdf_path) as pdf:\n",
        "        for page in pdf.pages:\n",
        "            # Extract text with layout\n",
        "            text = page.extract_text(layout=True)\n",
        "            print(\"Full Text with Layout:\\n\", text)\n",
        "\n",
        "            # Get detailed character data\n",
        "            char_data = page.chars\n",
        "            headings = []\n",
        "            paragraphs = []\n",
        "            current_paragraph = []\n",
        "\n",
        "            for char in char_data:\n",
        "                text = char['text']\n",
        "                font_size = char['size']\n",
        "                is_bold = 'Bold' in char.get('fontname', '')\n",
        "\n",
        "                # Use font size or boldness as heading indicator\n",
        "                if font_size > 12 or is_bold:  # Adjust threshold based on your PDF\n",
        "                    if current_paragraph:\n",
        "                        paragraphs.append(''.join(current_paragraph))\n",
        "                        current_paragraph = []\n",
        "                    headings.append(text)\n",
        "                else:\n",
        "                    current_paragraph.append(text)\n",
        "\n",
        "            if current_paragraph:\n",
        "                paragraphs.append(''.join(current_paragraph))\n",
        "\n",
        "            print(\"Headings:\", headings)\n",
        "            print(\"Paragraphs:\", paragraphs)\n",
        "\n",
        "# Replace with your PDF file path\n",
        "pdf_path = \"/content/Quantum Computing_ Principles and Applications-2.pdf\"\n",
        "extract_text_with_layout(pdf_path)\n"
      ],
      "metadata": {
        "id": "_-8koXp2FQhM"
      },
      "execution_count": null,
      "outputs": []
    }
  ]
}